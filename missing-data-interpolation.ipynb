{
 "cells": [
  {
   "cell_type": "code",
   "execution_count": 1,
   "metadata": {},
   "outputs": [],
   "source": [
    "import torch\n",
    "import torch.nn as nn\n",
    "import torch.nn.functional as F\n",
    "from torch.utils.data import DataLoader,TensorDataset\n",
    "from sklearn.model_selection import train_test_split\n",
    "\n",
    "import matplotlib.pyplot as plt\n",
    "import numpy as np\n",
    "import pandas as pd\n",
    "import seaborn as sns"
   ]
  },
  {
   "cell_type": "markdown",
   "metadata": {},
   "source": [
    "### 1. download the raw data"
   ]
  },
  {
   "cell_type": "code",
   "execution_count": 84,
   "metadata": {},
   "outputs": [],
   "source": [
    "# import the data\n",
    "url  = \"https://archive.ics.uci.edu/ml/machine-learning-databases/wine-quality/winequality-red.csv\"\n",
    "data = pd.read_csv(url,sep=';')\n",
    "\n",
    "# del data['quality']\n",
    "\n",
    "# z-score all columns\n",
    "data = (data - data.mean())/data.std(ddof=1)"
   ]
  },
  {
   "cell_type": "markdown",
   "metadata": {},
   "source": [
    "### 2. create missing values in the data"
   ]
  },
  {
   "cell_type": "code",
   "execution_count": 131,
   "metadata": {},
   "outputs": [],
   "source": [
    "nMissing = 10\n",
    "randomSeed = 123\n",
    "selected_index = data.sample(10, random_state=randomSeed).index.to_list()"
   ]
  },
  {
   "cell_type": "code",
   "execution_count": 132,
   "metadata": {},
   "outputs": [
    {
     "name": "stdout",
     "output_type": "stream",
     "text": [
      "31     -0.027523\n",
      "263    -0.524002\n",
      "512    -0.311225\n",
      "772    -0.169374\n",
      "912     0.256179\n",
      "935    -0.169374\n",
      "1029   -0.524002\n",
      "1037   -0.524002\n",
      "1106   -0.453077\n",
      "1280   -0.453077\n",
      "Name: residual sugar, dtype: float64\n"
     ]
    }
   ],
   "source": [
    "missing_data = data.copy()\n",
    "print(missing_data.loc[missing_data.index.isin(selected_index), 'residual sugar'])\n",
    "missing_data.loc[missing_data.index.isin(selected_index), 'residual sugar'] = np.nan"
   ]
  },
  {
   "cell_type": "code",
   "execution_count": 134,
   "metadata": {},
   "outputs": [
    {
     "data": {
      "text/plain": [
       "10"
      ]
     },
     "execution_count": 134,
     "metadata": {},
     "output_type": "execute_result"
    }
   ],
   "source": [
    "missing_data['residual sugar'].isna().sum()"
   ]
  },
  {
   "cell_type": "code",
   "execution_count": 133,
   "metadata": {},
   "outputs": [
    {
     "name": "stdout",
     "output_type": "stream",
     "text": [
      "31     -0.027523\n",
      "263    -0.524002\n",
      "512    -0.311225\n",
      "772    -0.169374\n",
      "912     0.256179\n",
      "935    -0.169374\n",
      "1029   -0.524002\n",
      "1037   -0.524002\n",
      "1106   -0.453077\n",
      "1280   -0.453077\n",
      "Name: residual sugar, dtype: float64\n"
     ]
    }
   ],
   "source": [
    "print(data.loc[data.index.isin(selected_index), 'residual sugar'])"
   ]
  },
  {
   "cell_type": "markdown",
   "metadata": {},
   "source": [
    "### 3. prepare train / test sets"
   ]
  },
  {
   "cell_type": "code",
   "execution_count": 135,
   "metadata": {},
   "outputs": [],
   "source": [
    "feat_cols = missing_data.columns\n",
    "feat_cols = feat_cols.drop(['residual sugar'])\n",
    "\n",
    "X_train = torch.tensor(missing_data[~missing_data.index.isin(selected_index)][feat_cols].values).float()\n",
    "y_train = torch.tensor(missing_data[~missing_data.index.isin(selected_index)]['residual sugar'].values).float()\n",
    "y_train = y_train[:,None]\n",
    "\n",
    "X_test = torch.tensor(data[data.index.isin(selected_index)][feat_cols].values).float()\n",
    "y_test = torch.tensor(data[data.index.isin(selected_index)]['residual sugar'].values).float()\n",
    "y_test = y_test[:,None]"
   ]
  },
  {
   "cell_type": "code",
   "execution_count": 136,
   "metadata": {},
   "outputs": [],
   "source": [
    "train_data = TensorDataset(X_train, y_train)\n",
    "test_data  = TensorDataset(X_test, y_test)\n",
    "\n",
    "batchsize = 32\n",
    "\n",
    "train_loader = DataLoader(train_data,batch_size=batchsize,shuffle=True,drop_last=True)\n",
    "test_loader  = DataLoader(test_data,batch_size=test_data.tensors[0].shape[0])"
   ]
  },
  {
   "cell_type": "code",
   "execution_count": 137,
   "metadata": {},
   "outputs": [
    {
     "data": {
      "text/plain": [
       "11"
      ]
     },
     "execution_count": 137,
     "metadata": {},
     "output_type": "execute_result"
    }
   ],
   "source": [
    "len(feat_cols)"
   ]
  },
  {
   "cell_type": "markdown",
   "metadata": {},
   "source": [
    "### 4. create model"
   ]
  },
  {
   "cell_type": "code",
   "execution_count": 138,
   "metadata": {},
   "outputs": [],
   "source": [
    "def createModel(lr=.001):\n",
    "\n",
    "    class missingValueFFN(nn.Module):\n",
    "\n",
    "        def __init__(self):\n",
    "            super().__init__()\n",
    "\n",
    "            self.input = nn.Linear(len(feat_cols), 16)\n",
    "\n",
    "            self.fc1 = nn.Linear(16, 64)\n",
    "            self.fc2 = nn.Linear(64, 32)\n",
    "\n",
    "            self.output = nn.Linear(32, 1)\n",
    "\n",
    "        def forward(self, x):\n",
    "\n",
    "            x = F.relu( self.input(x) )\n",
    "            x = F.relu( self.fc1(x) )\n",
    "            x = F.relu( self.fc2(x) )\n",
    "\n",
    "            return self.output(x)\n",
    "        \n",
    "    model = missingValueFFN()\n",
    "\n",
    "    lossfun = nn.MSELoss()\n",
    "    optimizer = torch.optim.Adam(model.parameters(), lr=lr)\n",
    "\n",
    "    return model, lossfun, optimizer"
   ]
  },
  {
   "cell_type": "code",
   "execution_count": 139,
   "metadata": {},
   "outputs": [
    {
     "name": "stdout",
     "output_type": "stream",
     "text": [
      "tensor([[-0.0669],\n",
      "        [-0.1063],\n",
      "        [-0.0675],\n",
      "        [-0.1127],\n",
      "        [-0.1106],\n",
      "        [-0.0755],\n",
      "        [-0.0360],\n",
      "        [-0.0680],\n",
      "        [-0.0601],\n",
      "        [-0.1032],\n",
      "        [-0.0488],\n",
      "        [-0.0410],\n",
      "        [-0.0782],\n",
      "        [-0.0816],\n",
      "        [-0.1074],\n",
      "        [-0.1023],\n",
      "        [-0.0425],\n",
      "        [-0.0411],\n",
      "        [-0.0763],\n",
      "        [-0.0654],\n",
      "        [-0.0374],\n",
      "        [-0.0619],\n",
      "        [-0.0946],\n",
      "        [-0.0662],\n",
      "        [-0.1040],\n",
      "        [-0.0897],\n",
      "        [-0.0522],\n",
      "        [-0.1017],\n",
      "        [-0.0782],\n",
      "        [-0.0475],\n",
      "        [-0.1049],\n",
      "        [-0.0790]], grad_fn=<AddmmBackward0>)\n"
     ]
    },
    {
     "data": {
      "text/plain": [
       "tensor(0.6986, grad_fn=<MseLossBackward0>)"
      ]
     },
     "execution_count": 139,
     "metadata": {},
     "output_type": "execute_result"
    }
   ],
   "source": [
    "# quick test to see if the model is functioning\n",
    "model, lossfun, optimizer = createModel(lr=.001)\n",
    "\n",
    "X,y = next(iter(train_loader))\n",
    "yHat = model(X)\n",
    "print(yHat)\n",
    "\n",
    "lossfun(yHat,y)"
   ]
  },
  {
   "cell_type": "markdown",
   "metadata": {},
   "source": [
    "### 5. training"
   ]
  },
  {
   "cell_type": "code",
   "execution_count": 140,
   "metadata": {},
   "outputs": [],
   "source": [
    "def trainModel(numepochs=500):\n",
    "\n",
    "    # initialize losses and accuracies\n",
    "    trainLoss = torch.zeros(numepochs)\n",
    "\n",
    "    # loop through epoch\n",
    "    for epochi in range(numepochs):\n",
    "\n",
    "        batchLoss = []\n",
    "\n",
    "        # loop through minibatch\n",
    "        for X, y in train_loader:\n",
    "\n",
    "            # forward pass and loss\n",
    "            yHat = model(X)\n",
    "            loss = lossfun(yHat,y)\n",
    "\n",
    "            # backprop\n",
    "            optimizer.zero_grad()\n",
    "            loss.backward()\n",
    "            optimizer.step()\n",
    "\n",
    "            # batch loss\n",
    "            batchLoss.append(loss.item())\n",
    "        # end of batch loop\n",
    "\n",
    "        # train loss\n",
    "        trainLoss[epochi] = np.mean(batchLoss)\n",
    "\n",
    "    return trainLoss"
   ]
  },
  {
   "cell_type": "code",
   "execution_count": 158,
   "metadata": {},
   "outputs": [],
   "source": [
    "model, lossfun, optimizer = createModel(lr=.001)\n",
    "\n",
    "trainLoss = trainModel(numepochs=100)"
   ]
  },
  {
   "cell_type": "markdown",
   "metadata": {},
   "source": [
    "### 6. check results"
   ]
  },
  {
   "cell_type": "code",
   "execution_count": 159,
   "metadata": {},
   "outputs": [],
   "source": [
    "yHat_train = model(X_train)\n",
    "yHat_test = model(X_test)"
   ]
  },
  {
   "cell_type": "code",
   "execution_count": 160,
   "metadata": {},
   "outputs": [
    {
     "data": {
      "image/png": "[encoded data removed]",
      "text/plain": [
       "<Figure size 1600x500 with 2 Axes>"
      ]
     },
     "metadata": {},
     "output_type": "display_data"
    }
   ],
   "source": [
    "fig,ax = plt.subplots(1,2,figsize=(16,5))\n",
    "\n",
    "ax[0].plot(trainLoss,'s-',label='Train')\n",
    "ax[0].set_xlabel('Epochs')\n",
    "ax[0].set_ylabel('Loss')\n",
    "ax[0].set_title('Model loss')\n",
    "\n",
    "ax[1].plot(yHat_train.detach(),y_train,'ro')\n",
    "ax[1].plot(yHat_test.detach(),y_test,'b^')\n",
    "ax[1].set_xlabel('Model-predicted sugar')\n",
    "ax[1].set_ylabel('True sugar')\n",
    "ax[1].set_title('Model predictions vs. observations')\n",
    "\n",
    "# correlations between predictions and outputs\n",
    "corrTrain = np.corrcoef(yHat_train.detach().T,y_train.T)[1,0]\n",
    "corrTest  = np.corrcoef(yHat_test.detach().T, y_test.T)[1,0]\n",
    "ax[1].legend([ f'Train r={corrTrain:.3f}',f'Test r={corrTest:.3f}' ])\n",
    "\n",
    "plt.show()"
   ]
  },
  {
   "cell_type": "code",
   "execution_count": null,
   "metadata": {},
   "outputs": [],
   "source": []
  }
 ],
 "metadata": {
  "kernelspec": {
   "display_name": "llm_proj",
   "language": "python",
   "name": "python3"
  },
  "language_info": {
   "codemirror_mode": {
    "name": "ipython",
    "version": 3
   },
   "file_extension": ".py",
   "mimetype": "text/x-python",
   "name": "python",
   "nbconvert_exporter": "python",
   "pygments_lexer": "ipython3",
   "version": "3.10.13"
  }
 },
 "nbformat": 4,
 "nbformat_minor": 2
}
